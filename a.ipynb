{
 "cells": [
  {
   "cell_type": "code",
   "execution_count": 32,
   "metadata": {},
   "outputs": [],
   "source": [
    "def update(score_a: int, score_b: int, input: int):\n",
    "    if len(str(score_a)) == 3:\n",
    "        return score_a, 162 - score_a\n",
    "    \n",
    "    new_score_a = min(162, int(str(score_a) + str(input)))\n",
    "    new_score_b = max(0, 162 - new_score_a)\n",
    "\n",
    "    return new_score_a, new_score_b"
   ]
  },
  {
   "cell_type": "code",
   "execution_count": 24,
   "metadata": {},
   "outputs": [
    {
     "data": {
      "text/plain": [
       "1009"
      ]
     },
     "execution_count": 24,
     "metadata": {},
     "output_type": "execute_result"
    }
   ],
   "source": [
    "int(str(100) + str(9))"
   ]
  },
  {
   "cell_type": "code",
   "execution_count": 34,
   "metadata": {},
   "outputs": [],
   "source": [
    "cases = (\n",
    "    (\n",
    "        (0, 0), 9, (9, 153),\n",
    "    ),\n",
    "    (\n",
    "        (1, 0), 9, (19, 143),\n",
    "    ),\n",
    "    (\n",
    "        (1, 161), 9, (19, 143),\n",
    "    ),\n",
    "    (\n",
    "        (10, 0), 9, (109, 53),\n",
    "    ),\n",
    "    (\n",
    "        (10, 150), 9, (109, 53),\n",
    "    ),\n",
    "    (\n",
    "        (100, 0), 9, (100, 62),\n",
    "    ),\n",
    "    (\n",
    "        (100, 62), 9, (100, 62),\n",
    "    ),\n",
    ")"
   ]
  },
  {
   "cell_type": "code",
   "execution_count": 35,
   "metadata": {},
   "outputs": [],
   "source": [
    "for case in cases:\n",
    "    (score_a, score_b), input_score, (new_a, new_b) = case\n",
    "\n",
    "    try:\n",
    "        val = update(score_a, score_b, input_score)\n",
    "        assert val == (new_a, new_b)\n",
    "    except AssertionError:\n",
    "        print(score_a, score_b, input_score)\n",
    "        print(val)\n",
    "        print((new_a, new_b))\n",
    "        break"
   ]
  },
  {
   "cell_type": "code",
   "execution_count": 29,
   "metadata": {},
   "outputs": [
    {
     "data": {
      "text/plain": [
       "(162, 0)"
      ]
     },
     "execution_count": 29,
     "metadata": {},
     "output_type": "execute_result"
    }
   ],
   "source": [
    "update(100, 0, 9)"
   ]
  }
 ],
 "metadata": {
  "kernelspec": {
   "display_name": "venv",
   "language": "python",
   "name": "python3"
  },
  "language_info": {
   "codemirror_mode": {
    "name": "ipython",
    "version": 3
   },
   "file_extension": ".py",
   "mimetype": "text/x-python",
   "name": "python",
   "nbconvert_exporter": "python",
   "pygments_lexer": "ipython3",
   "version": "3.12.3"
  }
 },
 "nbformat": 4,
 "nbformat_minor": 2
}
